{
  "nbformat": 4,
  "nbformat_minor": 5,
  "metadata": {
    "kernelspec": {
      "display_name": "Python 3 (ipykernel)",
      "language": "python",
      "name": "python3"
    },
    "language_info": {
      "codemirror_mode": {
        "name": "ipython",
        "version": 3
      },
      "file_extension": ".py",
      "mimetype": "text/x-python",
      "name": "python",
      "nbconvert_exporter": "python",
      "pygments_lexer": "ipython3",
      "version": "3.9.0"
    },
    "colab": {
      "name": "nlp_kaggle_competition.ipynb",
      "provenance": [],
      "collapsed_sections": []
    },
    "accelerator": "GPU"
  },
  "cells": [
    {
      "cell_type": "markdown",
      "metadata": {
        "id": "b1c1c3ba"
      },
      "source": [
        "# Natural Language Processing with Disaster Tweets\n",
        "\n",
        "Predict which Tweets are about real disasters and which ones are not"
      ],
      "id": "b1c1c3ba"
    },
    {
      "cell_type": "markdown",
      "metadata": {
        "id": "HfZfcsMijerJ"
      },
      "source": [
        "This notebook provides a way of predicting if the content of a tweet corresponds to  a real disaster or not. If so, predict a `1`. If not, predict a `0`.\n",
        "\n",
        "For more information, visit https://www.kaggle.com/c/nlp-getting-started/data."
      ],
      "id": "HfZfcsMijerJ"
    },
    {
      "cell_type": "markdown",
      "metadata": {
        "id": "e01f3120"
      },
      "source": [
        "## Getting the data"
      ],
      "id": "e01f3120"
    },
    {
      "cell_type": "code",
      "metadata": {
        "id": "ca2ae954"
      },
      "source": [
        "# Importing needed packages\n",
        "import tensorflow as tf\n",
        "import pandas as pd\n",
        "import matplotlib.pyplot as plt\n",
        "import numpy as np"
      ],
      "id": "ca2ae954",
      "execution_count": 1,
      "outputs": []
    },
    {
      "cell_type": "code",
      "metadata": {
        "colab": {
          "base_uri": "https://localhost:8080/"
        },
        "id": "37d1fb9c",
        "outputId": "9df8de81-46f8-46a6-c9b3-c6555a0764fd"
      },
      "source": [
        "# Download helper functions file\n",
        "!wget https://raw.githubusercontent.com/mrdbourke/tensorflow-deep-learning/main/extras/helper_functions.py\n",
        "\n",
        "# Import helper functions\n",
        "from helper_functions import unzip_data, plot_loss_curves, compare_historys\n",
        "\n",
        "# Download dataset (as from Kaggle)\n",
        "!wget \"https://storage.googleapis.com/ztm_tf_course/nlp_getting_started.zip\"\n",
        "\n",
        "# Unzip dataset into directory\n",
        "unzip_data(\"nlp_getting_started.zip\")"
      ],
      "id": "37d1fb9c",
      "execution_count": 2,
      "outputs": [
        {
          "output_type": "stream",
          "name": "stdout",
          "text": [
            "--2021-12-03 09:16:37--  https://raw.githubusercontent.com/mrdbourke/tensorflow-deep-learning/main/extras/helper_functions.py\n",
            "Resolving raw.githubusercontent.com (raw.githubusercontent.com)... 185.199.108.133, 185.199.109.133, 185.199.110.133, ...\n",
            "Connecting to raw.githubusercontent.com (raw.githubusercontent.com)|185.199.108.133|:443... connected.\n",
            "HTTP request sent, awaiting response... 200 OK\n",
            "Length: 10246 (10K) [text/plain]\n",
            "Saving to: ‘helper_functions.py’\n",
            "\n",
            "\rhelper_functions.py   0%[                    ]       0  --.-KB/s               \rhelper_functions.py 100%[===================>]  10.01K  --.-KB/s    in 0s      \n",
            "\n",
            "2021-12-03 09:16:37 (70.2 MB/s) - ‘helper_functions.py’ saved [10246/10246]\n",
            "\n",
            "--2021-12-03 09:16:37--  https://storage.googleapis.com/ztm_tf_course/nlp_getting_started.zip\n",
            "Resolving storage.googleapis.com (storage.googleapis.com)... 142.250.103.128, 108.177.120.128, 142.250.128.128, ...\n",
            "Connecting to storage.googleapis.com (storage.googleapis.com)|142.250.103.128|:443... connected.\n",
            "HTTP request sent, awaiting response... 200 OK\n",
            "Length: 607343 (593K) [application/zip]\n",
            "Saving to: ‘nlp_getting_started.zip’\n",
            "\n",
            "nlp_getting_started 100%[===================>] 593.11K  --.-KB/s    in 0.01s   \n",
            "\n",
            "2021-12-03 09:16:37 (56.7 MB/s) - ‘nlp_getting_started.zip’ saved [607343/607343]\n",
            "\n"
          ]
        }
      ]
    },
    {
      "cell_type": "markdown",
      "metadata": {
        "id": "176a1d62"
      },
      "source": [
        "## Getting data ready for modelling"
      ],
      "id": "176a1d62"
    },
    {
      "cell_type": "code",
      "metadata": {
        "colab": {
          "base_uri": "https://localhost:8080/",
          "height": 206
        },
        "id": "caf53c9d",
        "outputId": "7c8901e6-2e9d-41c3-cac9-9291f66cf688"
      },
      "source": [
        "# Import .csv's to pandas dataframes\n",
        "train_df = pd.read_csv(\"train.csv\")\n",
        "test_df = pd.read_csv(\"test.csv\")\n",
        "\n",
        "train_df.head()"
      ],
      "id": "caf53c9d",
      "execution_count": 3,
      "outputs": [
        {
          "output_type": "execute_result",
          "data": {
            "text/html": [
              "<div>\n",
              "<style scoped>\n",
              "    .dataframe tbody tr th:only-of-type {\n",
              "        vertical-align: middle;\n",
              "    }\n",
              "\n",
              "    .dataframe tbody tr th {\n",
              "        vertical-align: top;\n",
              "    }\n",
              "\n",
              "    .dataframe thead th {\n",
              "        text-align: right;\n",
              "    }\n",
              "</style>\n",
              "<table border=\"1\" class=\"dataframe\">\n",
              "  <thead>\n",
              "    <tr style=\"text-align: right;\">\n",
              "      <th></th>\n",
              "      <th>id</th>\n",
              "      <th>keyword</th>\n",
              "      <th>location</th>\n",
              "      <th>text</th>\n",
              "      <th>target</th>\n",
              "    </tr>\n",
              "  </thead>\n",
              "  <tbody>\n",
              "    <tr>\n",
              "      <th>0</th>\n",
              "      <td>1</td>\n",
              "      <td>NaN</td>\n",
              "      <td>NaN</td>\n",
              "      <td>Our Deeds are the Reason of this #earthquake M...</td>\n",
              "      <td>1</td>\n",
              "    </tr>\n",
              "    <tr>\n",
              "      <th>1</th>\n",
              "      <td>4</td>\n",
              "      <td>NaN</td>\n",
              "      <td>NaN</td>\n",
              "      <td>Forest fire near La Ronge Sask. Canada</td>\n",
              "      <td>1</td>\n",
              "    </tr>\n",
              "    <tr>\n",
              "      <th>2</th>\n",
              "      <td>5</td>\n",
              "      <td>NaN</td>\n",
              "      <td>NaN</td>\n",
              "      <td>All residents asked to 'shelter in place' are ...</td>\n",
              "      <td>1</td>\n",
              "    </tr>\n",
              "    <tr>\n",
              "      <th>3</th>\n",
              "      <td>6</td>\n",
              "      <td>NaN</td>\n",
              "      <td>NaN</td>\n",
              "      <td>13,000 people receive #wildfires evacuation or...</td>\n",
              "      <td>1</td>\n",
              "    </tr>\n",
              "    <tr>\n",
              "      <th>4</th>\n",
              "      <td>7</td>\n",
              "      <td>NaN</td>\n",
              "      <td>NaN</td>\n",
              "      <td>Just got sent this photo from Ruby #Alaska as ...</td>\n",
              "      <td>1</td>\n",
              "    </tr>\n",
              "  </tbody>\n",
              "</table>\n",
              "</div>"
            ],
            "text/plain": [
              "   id keyword  ...                                               text target\n",
              "0   1     NaN  ...  Our Deeds are the Reason of this #earthquake M...      1\n",
              "1   4     NaN  ...             Forest fire near La Ronge Sask. Canada      1\n",
              "2   5     NaN  ...  All residents asked to 'shelter in place' are ...      1\n",
              "3   6     NaN  ...  13,000 people receive #wildfires evacuation or...      1\n",
              "4   7     NaN  ...  Just got sent this photo from Ruby #Alaska as ...      1\n",
              "\n",
              "[5 rows x 5 columns]"
            ]
          },
          "metadata": {},
          "execution_count": 3
        }
      ]
    },
    {
      "cell_type": "code",
      "metadata": {
        "colab": {
          "base_uri": "https://localhost:8080/",
          "height": 206
        },
        "id": "2b4ec970",
        "outputId": "3fa83a67-9d34-4ff3-8919-c3422004a943"
      },
      "source": [
        "test_df.head()"
      ],
      "id": "2b4ec970",
      "execution_count": 4,
      "outputs": [
        {
          "output_type": "execute_result",
          "data": {
            "text/html": [
              "<div>\n",
              "<style scoped>\n",
              "    .dataframe tbody tr th:only-of-type {\n",
              "        vertical-align: middle;\n",
              "    }\n",
              "\n",
              "    .dataframe tbody tr th {\n",
              "        vertical-align: top;\n",
              "    }\n",
              "\n",
              "    .dataframe thead th {\n",
              "        text-align: right;\n",
              "    }\n",
              "</style>\n",
              "<table border=\"1\" class=\"dataframe\">\n",
              "  <thead>\n",
              "    <tr style=\"text-align: right;\">\n",
              "      <th></th>\n",
              "      <th>id</th>\n",
              "      <th>keyword</th>\n",
              "      <th>location</th>\n",
              "      <th>text</th>\n",
              "    </tr>\n",
              "  </thead>\n",
              "  <tbody>\n",
              "    <tr>\n",
              "      <th>0</th>\n",
              "      <td>0</td>\n",
              "      <td>NaN</td>\n",
              "      <td>NaN</td>\n",
              "      <td>Just happened a terrible car crash</td>\n",
              "    </tr>\n",
              "    <tr>\n",
              "      <th>1</th>\n",
              "      <td>2</td>\n",
              "      <td>NaN</td>\n",
              "      <td>NaN</td>\n",
              "      <td>Heard about #earthquake is different cities, s...</td>\n",
              "    </tr>\n",
              "    <tr>\n",
              "      <th>2</th>\n",
              "      <td>3</td>\n",
              "      <td>NaN</td>\n",
              "      <td>NaN</td>\n",
              "      <td>there is a forest fire at spot pond, geese are...</td>\n",
              "    </tr>\n",
              "    <tr>\n",
              "      <th>3</th>\n",
              "      <td>9</td>\n",
              "      <td>NaN</td>\n",
              "      <td>NaN</td>\n",
              "      <td>Apocalypse lighting. #Spokane #wildfires</td>\n",
              "    </tr>\n",
              "    <tr>\n",
              "      <th>4</th>\n",
              "      <td>11</td>\n",
              "      <td>NaN</td>\n",
              "      <td>NaN</td>\n",
              "      <td>Typhoon Soudelor kills 28 in China and Taiwan</td>\n",
              "    </tr>\n",
              "  </tbody>\n",
              "</table>\n",
              "</div>"
            ],
            "text/plain": [
              "   id keyword location                                               text\n",
              "0   0     NaN      NaN                 Just happened a terrible car crash\n",
              "1   2     NaN      NaN  Heard about #earthquake is different cities, s...\n",
              "2   3     NaN      NaN  there is a forest fire at spot pond, geese are...\n",
              "3   9     NaN      NaN           Apocalypse lighting. #Spokane #wildfires\n",
              "4  11     NaN      NaN      Typhoon Soudelor kills 28 in China and Taiwan"
            ]
          },
          "metadata": {},
          "execution_count": 4
        }
      ]
    },
    {
      "cell_type": "markdown",
      "metadata": {
        "id": "af5c1ce9"
      },
      "source": [
        "Note that test dataset doesn't have the `target` column. In that case, we'll split our train dataset into train/validation splits."
      ],
      "id": "af5c1ce9"
    },
    {
      "cell_type": "code",
      "metadata": {
        "colab": {
          "base_uri": "https://localhost:8080/"
        },
        "id": "263eda13",
        "outputId": "f12d4573-2eb4-4576-e143-748fa02d8ffe"
      },
      "source": [
        "# Check true/false balance\n",
        "train_df[[\"target\"]].value_counts()"
      ],
      "id": "263eda13",
      "execution_count": 5,
      "outputs": [
        {
          "output_type": "execute_result",
          "data": {
            "text/plain": [
              "target\n",
              "0         4342\n",
              "1         3271\n",
              "dtype: int64"
            ]
          },
          "metadata": {},
          "execution_count": 5
        }
      ]
    },
    {
      "cell_type": "code",
      "metadata": {
        "id": "ecc26aa1"
      },
      "source": [
        "# Shuffle train dataset\n",
        "train_df_shuffled = train_df.sample(frac=1, random_state=42)"
      ],
      "id": "ecc26aa1",
      "execution_count": 6,
      "outputs": []
    },
    {
      "cell_type": "code",
      "metadata": {
        "colab": {
          "base_uri": "https://localhost:8080/"
        },
        "id": "34082160",
        "outputId": "ddf99720-4fae-4027-a195-e0882b9d784e"
      },
      "source": [
        "# Split train dataset into train/validation sets\n",
        "from sklearn.model_selection import train_test_split\n",
        "train_sentences, val_sentences, train_labels, val_labels = train_test_split(train_df_shuffled[\"text\"].to_numpy(),\n",
        "                                                                            train_df_shuffled[\"target\"].to_numpy(),\n",
        "                                                                            test_size=.1,\n",
        "                                                                            random_state=42)\n",
        "\n",
        "# Check splits shapes\n",
        "train_sentences.shape, train_labels.shape, val_sentences.shape, val_labels.shape"
      ],
      "id": "34082160",
      "execution_count": 7,
      "outputs": [
        {
          "output_type": "execute_result",
          "data": {
            "text/plain": [
              "((6851,), (6851,), (762,), (762,))"
            ]
          },
          "metadata": {},
          "execution_count": 7
        }
      ]
    },
    {
      "cell_type": "code",
      "metadata": {
        "id": "78100576"
      },
      "source": [
        "# Create a text vectorizer layer\n",
        "from tensorflow.keras.layers import TextVectorization\n",
        "\n",
        "text_vectorizer = TextVectorization(max_tokens=None,\n",
        "                                    standardize=\"lower_and_strip_punctuation\",\n",
        "                                    split=\"whitespace\",\n",
        "                                    ngrams=None,\n",
        "                                    output_mode=\"int\",\n",
        "                                    output_sequence_length=None)\n",
        "\n",
        "# Fit the text vectorizer to the training text\n",
        "text_vectorizer.adapt(train_sentences)"
      ],
      "id": "78100576",
      "execution_count": 8,
      "outputs": []
    },
    {
      "cell_type": "markdown",
      "metadata": {
        "id": "cb450667"
      },
      "source": [
        "### Model 1"
      ],
      "id": "cb450667"
    },
    {
      "cell_type": "code",
      "metadata": {
        "id": "50aac561"
      },
      "source": [
        "# Create an embedding layer\n",
        "from tensorflow.keras.layers import Embedding\n",
        "\n",
        "embedding = Embedding(input_dim=20000,\n",
        "                      output_dim=512,\n",
        "                      embeddings_initializer=tf.keras.initializers.RandomUniform(),\n",
        "                      input_length=20000,\n",
        "                      name=\"embedding_1\")"
      ],
      "id": "50aac561",
      "execution_count": 9,
      "outputs": []
    },
    {
      "cell_type": "code",
      "metadata": {
        "colab": {
          "base_uri": "https://localhost:8080/"
        },
        "id": "07ee12d0",
        "outputId": "569a762c-546a-4900-c722-94569168f277"
      },
      "source": [
        "# Create model_1 using Sequential API\n",
        "tf.random.set_seed(42)\n",
        "model_1 = tf.keras.Sequential([\n",
        "    tf.keras.layers.Input(shape=(1,), dtype=\"string\", name=\"input_layer\"),\n",
        "    text_vectorizer,\n",
        "    embedding,\n",
        "    tf.keras.layers.GlobalAveragePooling1D(name=\"global_average_pooling_1d_layer\"),\n",
        "    tf.keras.layers.Dense(1, activation=\"sigmoid\", name=\"output_layer\")\n",
        "])\n",
        "\n",
        "# Compile model_1\n",
        "model_1.compile(loss=tf.keras.losses.BinaryCrossentropy(),\n",
        "                optimizer=tf.keras.optimizers.Adam(),\n",
        "                metrics=[\"accuracy\"])\n",
        "\n",
        "# Check model_1 summary\n",
        "model_1.summary()"
      ],
      "id": "07ee12d0",
      "execution_count": 10,
      "outputs": [
        {
          "output_type": "stream",
          "name": "stdout",
          "text": [
            "Model: \"sequential\"\n",
            "_________________________________________________________________\n",
            " Layer (type)                Output Shape              Param #   \n",
            "=================================================================\n",
            " text_vectorization (TextVec  (None, None)             0         \n",
            " torization)                                                     \n",
            "                                                                 \n",
            " embedding_1 (Embedding)     (None, None, 512)         10240000  \n",
            "                                                                 \n",
            " global_average_pooling_1d_l  (None, 512)              0         \n",
            " ayer (GlobalAveragePooling1                                     \n",
            " D)                                                              \n",
            "                                                                 \n",
            " output_layer (Dense)        (None, 1)                 513       \n",
            "                                                                 \n",
            "=================================================================\n",
            "Total params: 10,240,513\n",
            "Trainable params: 10,240,513\n",
            "Non-trainable params: 0\n",
            "_________________________________________________________________\n"
          ]
        }
      ]
    },
    {
      "cell_type": "code",
      "metadata": {
        "colab": {
          "base_uri": "https://localhost:8080/"
        },
        "id": "63451f3c",
        "outputId": "f8270d0c-9547-40fe-bfc2-f8200cf7250b"
      },
      "source": [
        "# Fit model_1\n",
        "history_model_1 = model_1.fit(train_sentences, train_labels,\n",
        "                              epochs=5,\n",
        "                              validation_data=(val_sentences, val_labels))"
      ],
      "id": "63451f3c",
      "execution_count": 11,
      "outputs": [
        {
          "output_type": "stream",
          "name": "stdout",
          "text": [
            "Epoch 1/5\n",
            "215/215 [==============================] - 6s 16ms/step - loss: 0.5910 - accuracy: 0.6977 - val_loss: 0.5113 - val_accuracy: 0.7848\n",
            "Epoch 2/5\n",
            "215/215 [==============================] - 3s 14ms/step - loss: 0.3821 - accuracy: 0.8508 - val_loss: 0.4637 - val_accuracy: 0.8018\n",
            "Epoch 3/5\n",
            "215/215 [==============================] - 3s 14ms/step - loss: 0.2559 - accuracy: 0.9057 - val_loss: 0.4737 - val_accuracy: 0.7992\n",
            "Epoch 4/5\n",
            "215/215 [==============================] - 3s 14ms/step - loss: 0.1722 - accuracy: 0.9431 - val_loss: 0.5187 - val_accuracy: 0.7887\n",
            "Epoch 5/5\n",
            "215/215 [==============================] - 3s 14ms/step - loss: 0.1187 - accuracy: 0.9626 - val_loss: 0.5382 - val_accuracy: 0.7900\n"
          ]
        }
      ]
    },
    {
      "cell_type": "markdown",
      "metadata": {
        "id": "ce6fa824"
      },
      "source": [
        "### Model 2"
      ],
      "id": "ce6fa824"
    },
    {
      "cell_type": "code",
      "metadata": {
        "colab": {
          "base_uri": "https://localhost:8080/"
        },
        "id": "0a049880",
        "outputId": "3c62b932-3197-4445-b76f-ae30eef0d266"
      },
      "source": [
        "tf.random.set_seed(42)\n",
        "# Create new embedding for model_2\n",
        "embedding_2 = Embedding(input_dim=20000, output_dim=512,\n",
        "                        embeddings_initializer=tf.keras.initializers.RandomUniform(),\n",
        "                        input_length=20000,\n",
        "                        name=\"embedding_2\")\n",
        "\n",
        "# Create model_2\n",
        "model_2 = tf.keras.Sequential([\n",
        "    tf.keras.layers.Input(shape=(1,), dtype=\"string\", name=\"input_layer\"),\n",
        "    text_vectorizer,\n",
        "    embedding_2,\n",
        "    tf.keras.layers.LSTM(64, name=\"LSTM_layer\"),\n",
        "    tf.keras.layers.Dense(1, activation=\"sigmoid\", name=\"output_layer\")\n",
        "])\n",
        "\n",
        "# Compile model_2\n",
        "model_2.compile(loss=tf.keras.losses.BinaryCrossentropy(),\n",
        "                optimizer=tf.keras.optimizers.Adam(),\n",
        "                metrics=[\"accuracy\"])\n",
        "\n",
        "# Model_2 summary\n",
        "model_2.summary()"
      ],
      "id": "0a049880",
      "execution_count": 12,
      "outputs": [
        {
          "output_type": "stream",
          "name": "stdout",
          "text": [
            "Model: \"sequential_1\"\n",
            "_________________________________________________________________\n",
            " Layer (type)                Output Shape              Param #   \n",
            "=================================================================\n",
            " text_vectorization (TextVec  (None, None)             0         \n",
            " torization)                                                     \n",
            "                                                                 \n",
            " embedding_2 (Embedding)     (None, None, 512)         10240000  \n",
            "                                                                 \n",
            " LSTM_layer (LSTM)           (None, 64)                147712    \n",
            "                                                                 \n",
            " output_layer (Dense)        (None, 1)                 65        \n",
            "                                                                 \n",
            "=================================================================\n",
            "Total params: 10,387,777\n",
            "Trainable params: 10,387,777\n",
            "Non-trainable params: 0\n",
            "_________________________________________________________________\n"
          ]
        }
      ]
    },
    {
      "cell_type": "code",
      "metadata": {
        "colab": {
          "base_uri": "https://localhost:8080/"
        },
        "id": "65aa85fe",
        "outputId": "59496557-057d-4683-9bb8-19f428e97177"
      },
      "source": [
        "# Fit model_2\n",
        "history_model_2 = model_2.fit(train_sentences, train_labels,\n",
        "                              epochs=5,\n",
        "                              validation_data=(val_sentences, val_labels))"
      ],
      "id": "65aa85fe",
      "execution_count": 13,
      "outputs": [
        {
          "output_type": "stream",
          "name": "stdout",
          "text": [
            "Epoch 1/5\n",
            "215/215 [==============================] - 8s 21ms/step - loss: 0.5210 - accuracy: 0.7418 - val_loss: 0.4694 - val_accuracy: 0.7966\n",
            "Epoch 2/5\n",
            "215/215 [==============================] - 4s 19ms/step - loss: 0.2703 - accuracy: 0.8980 - val_loss: 0.5542 - val_accuracy: 0.7913\n",
            "Epoch 3/5\n",
            "215/215 [==============================] - 4s 18ms/step - loss: 0.1313 - accuracy: 0.9565 - val_loss: 0.7288 - val_accuracy: 0.7612\n",
            "Epoch 4/5\n",
            "215/215 [==============================] - 4s 19ms/step - loss: 0.0626 - accuracy: 0.9804 - val_loss: 0.8148 - val_accuracy: 0.7769\n",
            "Epoch 5/5\n",
            "215/215 [==============================] - 4s 18ms/step - loss: 0.0385 - accuracy: 0.9885 - val_loss: 0.9789 - val_accuracy: 0.7664\n"
          ]
        }
      ]
    },
    {
      "cell_type": "markdown",
      "metadata": {
        "id": "2fc322e1"
      },
      "source": [
        "### Model 3"
      ],
      "id": "2fc322e1"
    },
    {
      "cell_type": "code",
      "metadata": {
        "colab": {
          "base_uri": "https://localhost:8080/"
        },
        "id": "a5760f98",
        "outputId": "99ede9b4-9345-43ac-dce1-168d2f77ee59"
      },
      "source": [
        "tf.random.set_seed(42)\n",
        "# Create new embedding for model_5\n",
        "embedding_3 = Embedding(input_dim=20000,\n",
        "                        output_dim=512,\n",
        "                        embeddings_initializer=tf.keras.initializers.RandomUniform(),\n",
        "                        input_length=20000)\n",
        "\n",
        "# Create model_5\n",
        "model_3 = tf.keras.Sequential([\n",
        "    tf.keras.layers.Input(shape=(1,), dtype=\"string\"),\n",
        "    text_vectorizer,\n",
        "    embedding_3,\n",
        "    tf.keras.layers.Conv1D(filters=32, kernel_size=3, activation=\"relu\", name=\"conv_1d_layer\"),\n",
        "    tf.keras.layers.GlobalAveragePooling1D(name=\"global_average_pooling_1d_layer\"),\n",
        "    tf.keras.layers.Dense(1, activation=\"sigmoid\", name=\"output_layer\")\n",
        "])\n",
        "\n",
        "# Compile model_5\n",
        "model_3.compile(loss=tf.keras.losses.BinaryCrossentropy(),\n",
        "                optimizer=tf.keras.optimizers.Adam(),\n",
        "                metrics=[\"accuracy\"])\n",
        "\n",
        "# Check summary\n",
        "model_3.summary()"
      ],
      "id": "a5760f98",
      "execution_count": 14,
      "outputs": [
        {
          "output_type": "stream",
          "name": "stdout",
          "text": [
            "Model: \"sequential_2\"\n",
            "_________________________________________________________________\n",
            " Layer (type)                Output Shape              Param #   \n",
            "=================================================================\n",
            " text_vectorization (TextVec  (None, None)             0         \n",
            " torization)                                                     \n",
            "                                                                 \n",
            " embedding (Embedding)       (None, None, 512)         10240000  \n",
            "                                                                 \n",
            " conv_1d_layer (Conv1D)      (None, None, 32)          49184     \n",
            "                                                                 \n",
            " global_average_pooling_1d_l  (None, 32)               0         \n",
            " ayer (GlobalAveragePooling1                                     \n",
            " D)                                                              \n",
            "                                                                 \n",
            " output_layer (Dense)        (None, 1)                 33        \n",
            "                                                                 \n",
            "=================================================================\n",
            "Total params: 10,289,217\n",
            "Trainable params: 10,289,217\n",
            "Non-trainable params: 0\n",
            "_________________________________________________________________\n"
          ]
        }
      ]
    },
    {
      "cell_type": "code",
      "metadata": {
        "colab": {
          "base_uri": "https://localhost:8080/"
        },
        "id": "7e716883",
        "outputId": "5e54272b-16e4-43cc-c57c-38f04f6e6ff2"
      },
      "source": [
        "# Fit model\n",
        "history_model_3 = model_3.fit(train_sentences, train_labels,\n",
        "                              epochs=5,\n",
        "                              validation_data=(val_sentences, val_labels))"
      ],
      "id": "7e716883",
      "execution_count": 15,
      "outputs": [
        {
          "output_type": "stream",
          "name": "stdout",
          "text": [
            "Epoch 1/5\n",
            "215/215 [==============================] - 10s 19ms/step - loss: 0.5272 - accuracy: 0.7380 - val_loss: 0.4612 - val_accuracy: 0.7966\n",
            "Epoch 2/5\n",
            "215/215 [==============================] - 3s 15ms/step - loss: 0.2816 - accuracy: 0.8886 - val_loss: 0.5112 - val_accuracy: 0.7848\n",
            "Epoch 3/5\n",
            "215/215 [==============================] - 3s 15ms/step - loss: 0.1375 - accuracy: 0.9485 - val_loss: 0.6144 - val_accuracy: 0.7782\n",
            "Epoch 4/5\n",
            "215/215 [==============================] - 3s 15ms/step - loss: 0.0720 - accuracy: 0.9752 - val_loss: 0.7590 - val_accuracy: 0.7782\n",
            "Epoch 5/5\n",
            "215/215 [==============================] - 3s 16ms/step - loss: 0.0382 - accuracy: 0.9870 - val_loss: 0.8681 - val_accuracy: 0.7664\n"
          ]
        }
      ]
    },
    {
      "cell_type": "markdown",
      "metadata": {
        "id": "6ec67d24"
      },
      "source": [
        "## Try fine-tuning the TF Hub Universal Sentence Encoder model by setting training=True when instantiating it as a Keras layer"
      ],
      "id": "6ec67d24"
    },
    {
      "cell_type": "markdown",
      "metadata": {
        "id": "8c5134d6"
      },
      "source": [
        "```\n",
        "# We can use this encoding layer in place of our text_vectorizer and embedding layer\n",
        "sentence_encoder_layer = hub.KerasLayer(\"https://tfhub.dev/google/universal-sentence-encoder/4\",\n",
        "                                        input_shape=[],\n",
        "                                        dtype=tf.string,\n",
        "                                        trainable=True) # turn training on to fine-tune the TensorFlow Hub model\n",
        "                                        \n",
        "```"
      ],
      "id": "8c5134d6"
    },
    {
      "cell_type": "code",
      "metadata": {
        "colab": {
          "base_uri": "https://localhost:8080/"
        },
        "id": "aff564dc",
        "outputId": "6f43a093-99ea-4b0b-a78e-9b553bd33a7d"
      },
      "source": [
        "# Try using USE v4\n",
        "import tensorflow_hub as hub\n",
        "embed = hub.load(\"https://tfhub.dev/google/universal-sentence-encoder/4\")\n",
        "embeddings = embed([\n",
        "    \"The quick brown fox jumps over the lazy dog.\",\n",
        "    \"I am a sentence for which I would like to get its embedding\"])\n",
        "print(embeddings)"
      ],
      "id": "aff564dc",
      "execution_count": 18,
      "outputs": [
        {
          "output_type": "stream",
          "name": "stdout",
          "text": [
            "tf.Tensor(\n",
            "[[-0.03133017 -0.06338634 -0.01607498 ... -0.03242779 -0.04575739\n",
            "   0.05370455]\n",
            " [ 0.05080865 -0.01652431  0.01573783 ...  0.0097666   0.03170121\n",
            "   0.01788121]], shape=(2, 512), dtype=float32)\n"
          ]
        }
      ]
    },
    {
      "cell_type": "code",
      "metadata": {
        "colab": {
          "base_uri": "https://localhost:8080/"
        },
        "id": "28ddf3b5",
        "outputId": "f4e3e230-8fe5-40a8-c8e4-1f9022979e13"
      },
      "source": [
        "# Create model_4\n",
        "tf.random.set_seed(42)\n",
        "sentence_encoder_layer = hub.KerasLayer(\"https://tfhub.dev/google/universal-sentence-encoder/4\",\n",
        "                                        input_shape=[],\n",
        "                                        dtype=tf.string,\n",
        "                                        trainable=True)\n",
        "model_4 = tf.keras.Sequential([\n",
        "    sentence_encoder_layer,\n",
        "    tf.keras.layers.Dense(64, activation=\"relu\"),\n",
        "    tf.keras.layers.Dense(1, activation=\"sigmoid\")\n",
        "], name=\"model_USE\")\n",
        "\n",
        "# Compile model_4\n",
        "model_4.compile(loss=tf.keras.losses.BinaryCrossentropy(),\n",
        "                optimizer=tf.keras.optimizers.Adam(),\n",
        "                metrics=[\"accuracy\"])\n",
        "\n",
        "# Fit model_4\n",
        "history_model_4 = model_4.fit(train_sentences, train_labels,\n",
        "                              epochs=5,\n",
        "                              validation_data=(val_sentences, val_labels))"
      ],
      "id": "28ddf3b5",
      "execution_count": 20,
      "outputs": [
        {
          "output_type": "stream",
          "name": "stdout",
          "text": [
            "Epoch 1/5\n",
            "215/215 [==============================] - 58s 238ms/step - loss: 0.4471 - accuracy: 0.8031 - val_loss: 0.4321 - val_accuracy: 0.8136\n",
            "Epoch 2/5\n",
            "215/215 [==============================] - 51s 236ms/step - loss: 0.2384 - accuracy: 0.9086 - val_loss: 0.5542 - val_accuracy: 0.8005\n",
            "Epoch 3/5\n",
            "215/215 [==============================] - 51s 236ms/step - loss: 0.0821 - accuracy: 0.9715 - val_loss: 0.5669 - val_accuracy: 0.8005\n",
            "Epoch 4/5\n",
            "215/215 [==============================] - 51s 235ms/step - loss: 0.0435 - accuracy: 0.9850 - val_loss: 0.6931 - val_accuracy: 0.7808\n",
            "Epoch 5/5\n",
            "215/215 [==============================] - 50s 235ms/step - loss: 0.0262 - accuracy: 0.9886 - val_loss: 0.6650 - val_accuracy: 0.8058\n"
          ]
        }
      ]
    },
    {
      "cell_type": "markdown",
      "metadata": {
        "id": "762f09db"
      },
      "source": [
        "\n",
        "## Retrain the best model you've got so far on the whole training set (no validation split).\n",
        "\n",
        "Our best model is `model_4` in which we used the Universal Sentece Encoder model from tensorflow hub and fine tuned for our own purposes."
      ],
      "id": "762f09db"
    },
    {
      "cell_type": "code",
      "metadata": {
        "colab": {
          "base_uri": "https://localhost:8080/"
        },
        "id": "065bc9e0",
        "outputId": "b906cded-1c29-417e-e2d2-7480ec4059d4"
      },
      "source": [
        "# Create full sentence/label sets\n",
        "whole_training_sentences = train_df_shuffled[\"text\"].to_numpy()\n",
        "whole_training_labels = train_df_shuffled[\"target\"].to_numpy()\n",
        "\n",
        "# Check shapes\n",
        "whole_training_sentences.shape, whole_training_labels.shape"
      ],
      "id": "065bc9e0",
      "execution_count": 21,
      "outputs": [
        {
          "output_type": "execute_result",
          "data": {
            "text/plain": [
              "((7613,), (7613,))"
            ]
          },
          "metadata": {},
          "execution_count": 21
        }
      ]
    },
    {
      "cell_type": "code",
      "metadata": {
        "colab": {
          "base_uri": "https://localhost:8080/"
        },
        "id": "a15f6ba4",
        "outputId": "4d677b0c-b029-43d6-f311-fc0dcbee5396"
      },
      "source": [
        "# Create new model\n",
        "model_5 = tf.keras.Sequential([\n",
        "    sentence_encoder_layer,\n",
        "    tf.keras.layers.Dense(64, activation=\"relu\"),\n",
        "    tf.keras.layers.Dense(1, activation=\"sigmoid\")\n",
        "])\n",
        "\n",
        "# Compile model\n",
        "model_5.compile(loss=\"binary_crossentropy\",\n",
        "                optimizer=\"Adam\",\n",
        "                metrics=[\"accuracy\"])\n",
        "\n",
        "# Fit model with whole data\n",
        "history_model_5 = model_5.fit(whole_training_sentences, whole_training_labels,\n",
        "                              epochs=5)"
      ],
      "id": "a15f6ba4",
      "execution_count": 23,
      "outputs": [
        {
          "output_type": "stream",
          "name": "stdout",
          "text": [
            "Epoch 1/5\n",
            "238/238 [==============================] - 61s 233ms/step - loss: 0.0823 - accuracy: 0.9850\n",
            "Epoch 2/5\n",
            "238/238 [==============================] - 55s 233ms/step - loss: 0.0258 - accuracy: 0.9905\n",
            "Epoch 3/5\n",
            "238/238 [==============================] - 55s 233ms/step - loss: 0.0162 - accuracy: 0.9934\n",
            "Epoch 4/5\n",
            "238/238 [==============================] - 56s 234ms/step - loss: 0.0172 - accuracy: 0.9925\n",
            "Epoch 5/5\n",
            "238/238 [==============================] - 55s 233ms/step - loss: 0.0119 - accuracy: 0.9938\n"
          ]
        }
      ]
    },
    {
      "cell_type": "markdown",
      "metadata": {
        "id": "536b6f4e"
      },
      "source": [
        "Make predictions on the test dataset and format the predictions into the same format as the `sample_submission.csv` file from Kaggle. \n",
        "\n",
        "[Make a submission to the Kaggle competition](https://www.kaggle.com/c/nlp-getting-started/data)"
      ],
      "id": "536b6f4e"
    },
    {
      "cell_type": "code",
      "metadata": {
        "colab": {
          "base_uri": "https://localhost:8080/"
        },
        "id": "e9e5c9f4",
        "outputId": "490bcc51-7fd3-4d29-e3d3-0422fcce451c"
      },
      "source": [
        "# Get model_7 predictions probabilities\n",
        "model_5_pred_probs = model_5.predict(test_df[\"text\"].to_numpy())\n",
        "model_5_pred_probs[:10]"
      ],
      "id": "e9e5c9f4",
      "execution_count": 24,
      "outputs": [
        {
          "output_type": "execute_result",
          "data": {
            "text/plain": [
              "array([[9.9921286e-01],\n",
              "       [9.9712342e-01],\n",
              "       [9.9967146e-01],\n",
              "       [9.9740207e-01],\n",
              "       [9.9970657e-01],\n",
              "       [9.9581063e-01],\n",
              "       [4.6759538e-04],\n",
              "       [4.1384361e-04],\n",
              "       [3.9360445e-04],\n",
              "       [3.6974449e-04]], dtype=float32)"
            ]
          },
          "metadata": {},
          "execution_count": 24
        }
      ]
    },
    {
      "cell_type": "code",
      "metadata": {
        "colab": {
          "base_uri": "https://localhost:8080/"
        },
        "id": "43138d9a",
        "outputId": "4f6a36bc-256a-47a5-879b-0416934d7a1d"
      },
      "source": [
        "# Convert model_7's prediction probabilities into labels (round)\n",
        "model_5_preds = tf.cast(tf.squeeze(tf.round(model_5_pred_probs)), dtype=tf.int32)\n",
        "model_5_preds[:10]"
      ],
      "id": "43138d9a",
      "execution_count": 25,
      "outputs": [
        {
          "output_type": "execute_result",
          "data": {
            "text/plain": [
              "<tf.Tensor: shape=(10,), dtype=int32, numpy=array([1, 1, 1, 1, 1, 1, 0, 0, 0, 0], dtype=int32)>"
            ]
          },
          "metadata": {},
          "execution_count": 25
        }
      ]
    },
    {
      "cell_type": "code",
      "metadata": {
        "colab": {
          "base_uri": "https://localhost:8080/",
          "height": 424
        },
        "id": "9e4bcdc1",
        "outputId": "dc616da4-238c-42a0-8623-09d9eadc50f0"
      },
      "source": [
        "# Create submission dataframe\n",
        "submission = pd.DataFrame({\"id\": test_df[\"id\"].values,\n",
        "                           \"target\": (model_5_preds.numpy())})\n",
        "submission"
      ],
      "id": "9e4bcdc1",
      "execution_count": 26,
      "outputs": [
        {
          "output_type": "execute_result",
          "data": {
            "text/html": [
              "<div>\n",
              "<style scoped>\n",
              "    .dataframe tbody tr th:only-of-type {\n",
              "        vertical-align: middle;\n",
              "    }\n",
              "\n",
              "    .dataframe tbody tr th {\n",
              "        vertical-align: top;\n",
              "    }\n",
              "\n",
              "    .dataframe thead th {\n",
              "        text-align: right;\n",
              "    }\n",
              "</style>\n",
              "<table border=\"1\" class=\"dataframe\">\n",
              "  <thead>\n",
              "    <tr style=\"text-align: right;\">\n",
              "      <th></th>\n",
              "      <th>id</th>\n",
              "      <th>target</th>\n",
              "    </tr>\n",
              "  </thead>\n",
              "  <tbody>\n",
              "    <tr>\n",
              "      <th>0</th>\n",
              "      <td>0</td>\n",
              "      <td>1</td>\n",
              "    </tr>\n",
              "    <tr>\n",
              "      <th>1</th>\n",
              "      <td>2</td>\n",
              "      <td>1</td>\n",
              "    </tr>\n",
              "    <tr>\n",
              "      <th>2</th>\n",
              "      <td>3</td>\n",
              "      <td>1</td>\n",
              "    </tr>\n",
              "    <tr>\n",
              "      <th>3</th>\n",
              "      <td>9</td>\n",
              "      <td>1</td>\n",
              "    </tr>\n",
              "    <tr>\n",
              "      <th>4</th>\n",
              "      <td>11</td>\n",
              "      <td>1</td>\n",
              "    </tr>\n",
              "    <tr>\n",
              "      <th>...</th>\n",
              "      <td>...</td>\n",
              "      <td>...</td>\n",
              "    </tr>\n",
              "    <tr>\n",
              "      <th>3258</th>\n",
              "      <td>10861</td>\n",
              "      <td>1</td>\n",
              "    </tr>\n",
              "    <tr>\n",
              "      <th>3259</th>\n",
              "      <td>10865</td>\n",
              "      <td>1</td>\n",
              "    </tr>\n",
              "    <tr>\n",
              "      <th>3260</th>\n",
              "      <td>10868</td>\n",
              "      <td>1</td>\n",
              "    </tr>\n",
              "    <tr>\n",
              "      <th>3261</th>\n",
              "      <td>10874</td>\n",
              "      <td>1</td>\n",
              "    </tr>\n",
              "    <tr>\n",
              "      <th>3262</th>\n",
              "      <td>10875</td>\n",
              "      <td>1</td>\n",
              "    </tr>\n",
              "  </tbody>\n",
              "</table>\n",
              "<p>3263 rows × 2 columns</p>\n",
              "</div>"
            ],
            "text/plain": [
              "         id  target\n",
              "0         0       1\n",
              "1         2       1\n",
              "2         3       1\n",
              "3         9       1\n",
              "4        11       1\n",
              "...     ...     ...\n",
              "3258  10861       1\n",
              "3259  10865       1\n",
              "3260  10868       1\n",
              "3261  10874       1\n",
              "3262  10875       1\n",
              "\n",
              "[3263 rows x 2 columns]"
            ]
          },
          "metadata": {},
          "execution_count": 26
        }
      ]
    },
    {
      "cell_type": "code",
      "metadata": {
        "id": "b642ccda"
      },
      "source": [
        "# Create submission csv to upload to kaggle\n",
        "submission.to_csv(\"submission.csv\", index=False)"
      ],
      "id": "b642ccda",
      "execution_count": 27,
      "outputs": []
    },
    {
      "cell_type": "markdown",
      "metadata": {
        "id": "r_nBHQrkp1aZ"
      },
      "source": [
        "As I didn't want to spoil the results, I tell you now Kaggle's score of this model: 0.78823 😀"
      ],
      "id": "r_nBHQrkp1aZ"
    }
  ]
}